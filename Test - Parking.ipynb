{
 "cells": [
  {
   "cell_type": "code",
   "execution_count": 1,
   "metadata": {
    "collapsed": true
   },
   "outputs": [],
   "source": [
    "import pandas as pd\n",
    "from bs4 import BeautifulSoup\n",
    "import csv\n",
    "from datetime import datetime"
   ]
  },
  {
   "cell_type": "code",
   "execution_count": 2,
   "metadata": {},
   "outputs": [
    {
     "name": "stdout",
     "output_type": "stream",
     "text": [
      "*Scape\n",
      "2 Orchard Link, S(237978)\n",
      "\n",
      "\n",
      "\n",
      " MON-FRI Before 5/6 PM\n",
      "\n",
      "$2.05/hr from 7am to 4.59pm \n",
      "\n",
      "\n",
      "\n",
      " MON-FRI After 5/6 PM\n",
      "\n",
      "$5.15 for 1st 3hr, $2.05 for next subsequent hr from 5pm to 6.59am the following day \n",
      "\n",
      "\n",
      "\n",
      " SAT \n",
      "\n",
      "$2.05/hr from 7am to 7am the following day \n",
      "\n",
      "\n",
      "\n",
      " SUN / PUBLIC HOLIDAYS\n",
      "\n",
      "$2.05/hr from 7am to 4.59pm, $5.15 for 1st 3hr, $2.05 for next subsequent hr from 5pm to 6.59am the following day \n",
      "\n",
      "\n",
      "\n",
      "\n",
      "Charges may not be inclusive of GST.\n",
      "\n",
      "\n",
      "\n",
      "Email this page\n",
      "\n",
      "Report Error\n"
     ]
    }
   ],
   "source": [
    "import requests\n",
    "url='http://www.sgcarmart.com/news/carpark_index.php?ID=710&LOC=all&TYP=carpark&SRH=#carparkrates'\n",
    "resp = requests.get(url)\n",
    "html_doc = resp.text\n",
    "\n",
    "soup = BeautifulSoup(html_doc, 'html.parser')\n",
    "price_box = soup.find('div', attrs={'class':'grayboxborder'})\n",
    "data = price_box.text.strip()\n",
    "print(data)"
   ]
  },
  {
   "cell_type": "code",
   "execution_count": 3,
   "metadata": {},
   "outputs": [
    {
     "name": "stdout",
     "output_type": "stream",
     "text": [
      "['*Scape', '2 Orchard Link, S(237978)', ' MON-FRI Before 5/6 PM', '$2.05/hr from 7am to 4.59pm', ' MON-FRI After 5/6 PM', '$5.15 for 1st 3hr, $2.05 for next subsequent hr from 5pm to 6.59am the following day', ' SAT ', '$2.05/hr from 7am to 7am the following day', ' SUN / PUBLIC HOLIDAYS', '$2.05/hr from 7am to 4.59pm, $5.15 for 1st 3hr, $2.05 for next subsequent hr from 5pm to 6.59am the following day', 'Charges may not be inclusive of GST.']\n"
     ]
    }
   ],
   "source": [
    "data_line = data.split('\\n')\n",
    "\n",
    "data2 = []\n",
    "\n",
    "def removebreaks(df):\n",
    "    for line in df:\n",
    "        if line != \"\":\n",
    "            data2.append(line)\n",
    "\n",
    "removebreaks(data_line)\n",
    "\n",
    "data3 = data2[:-2]\n",
    "\n",
    "data4 = []\n",
    "\n",
    "def clean(df):\n",
    "    for line in df:\n",
    "        if '\\xa0' in line:\n",
    "            data4.append(line[:-1])\n",
    "        else:\n",
    "            data4.append(line)\n",
    "           \n",
    "clean(data3)\n",
    "print(data4)"
   ]
  },
  {
   "cell_type": "code",
   "execution_count": 4,
   "metadata": {},
   "outputs": [
    {
     "name": "stdout",
     "output_type": "stream",
     "text": [
      "*Scape, 2 Orchard Link, S(237978)\n",
      "$2.05/hr from 7am to 4.59pm\n",
      "$5.15 for 1st 3hr, $2.05 for next subsequent hr from 5pm to 6.59am the following day\n",
      "$2.05/hr from 7am to 7am the following day\n",
      "$2.05/hr from 7am to 4.59pm, $5.15 for 1st 3hr, $2.05 for next subsequent hr from 5pm to 6.59am the following day\n",
      "['Carpark Address', 'Mon-Fri before 5/6pm', 'Mon-Fri after 5/6pm', 'Sat', 'Sun/Public Holiday']\n"
     ]
    }
   ],
   "source": [
    "dict = {}\n",
    "dict['Carpark Address'] = data4[0] + ', ' + data4[1]\n",
    "dict['Mon-Fri before 5/6pm']  = data4[3]\n",
    "dict['Mon-Fri after 5/6pm']  = data4[5]\n",
    "dict['Sat'] = data4[7]\n",
    "dict['Sun/Public Holiday'] = data4[9]\n",
    "print(dict['Carpark Address'])\n",
    "print(dict['Mon-Fri before 5/6pm'])\n",
    "print(dict['Mon-Fri after 5/6pm'])\n",
    "print(dict['Sat'])\n",
    "print(dict['Sun/Public Holiday'])\n",
    "print(list(dict.keys()))"
   ]
  },
  {
   "cell_type": "code",
   "execution_count": 5,
   "metadata": {
    "scrolled": true
   },
   "outputs": [],
   "source": [
    "df = pd.Series(dict)\n",
    "df.to_csv('parking3.csv')"
   ]
  },
  {
   "cell_type": "code",
   "execution_count": 6,
   "metadata": {},
   "outputs": [
    {
     "data": {
      "text/html": [
       "<div>\n",
       "<style>\n",
       "    .dataframe thead tr:only-child th {\n",
       "        text-align: right;\n",
       "    }\n",
       "\n",
       "    .dataframe thead th {\n",
       "        text-align: left;\n",
       "    }\n",
       "\n",
       "    .dataframe tbody tr th {\n",
       "        vertical-align: top;\n",
       "    }\n",
       "</style>\n",
       "<table border=\"1\" class=\"dataframe\">\n",
       "  <thead>\n",
       "    <tr style=\"text-align: right;\">\n",
       "      <th></th>\n",
       "      <th>0</th>\n",
       "      <th>1</th>\n",
       "      <th>2</th>\n",
       "      <th>3</th>\n",
       "    </tr>\n",
       "  </thead>\n",
       "  <tbody>\n",
       "    <tr>\n",
       "      <th>Carpark Address</th>\n",
       "      <td>Mon-Fri after 5/6pm</td>\n",
       "      <td>Mon-Fri before 5/6pm</td>\n",
       "      <td>Sat</td>\n",
       "      <td>Sun/Public Holiday</td>\n",
       "    </tr>\n",
       "    <tr>\n",
       "      <th>*Scape, 2 Orchard Link, S(237978)</th>\n",
       "      <td>$5.15 for 1st 3hr, $2.05 for next subsequent h...</td>\n",
       "      <td>$2.05/hr from 7am to 4.59pm</td>\n",
       "      <td>$2.05/hr from 7am to 7am the following day</td>\n",
       "      <td>$2.05/hr from 7am to 4.59pm, $5.15 for 1st 3hr...</td>\n",
       "    </tr>\n",
       "  </tbody>\n",
       "</table>\n",
       "</div>"
      ],
      "text/plain": [
       "                                                                                   0  \\\n",
       "Carpark Address                                                  Mon-Fri after 5/6pm   \n",
       "*Scape, 2 Orchard Link, S(237978)  $5.15 for 1st 3hr, $2.05 for next subsequent h...   \n",
       "\n",
       "                                                             1  \\\n",
       "Carpark Address                           Mon-Fri before 5/6pm   \n",
       "*Scape, 2 Orchard Link, S(237978)  $2.05/hr from 7am to 4.59pm   \n",
       "\n",
       "                                                                            2  \\\n",
       "Carpark Address                                                           Sat   \n",
       "*Scape, 2 Orchard Link, S(237978)  $2.05/hr from 7am to 7am the following day   \n",
       "\n",
       "                                                                                   3  \n",
       "Carpark Address                                                   Sun/Public Holiday  \n",
       "*Scape, 2 Orchard Link, S(237978)  $2.05/hr from 7am to 4.59pm, $5.15 for 1st 3hr...  "
      ]
     },
     "execution_count": 6,
     "metadata": {},
     "output_type": "execute_result"
    }
   ],
   "source": [
    "dfcsv = pd.read_csv('parking3.csv')\n",
    "dfcsv.transpose()"
   ]
  },
  {
   "cell_type": "code",
   "execution_count": null,
   "metadata": {
    "collapsed": true
   },
   "outputs": [],
   "source": []
  }
 ],
 "metadata": {
  "kernelspec": {
   "display_name": "Python 3",
   "language": "python",
   "name": "python3"
  },
  "language_info": {
   "codemirror_mode": {
    "name": "ipython",
    "version": 3
   },
   "file_extension": ".py",
   "mimetype": "text/x-python",
   "name": "python",
   "nbconvert_exporter": "python",
   "pygments_lexer": "ipython3",
   "version": "3.6.2"
  }
 },
 "nbformat": 4,
 "nbformat_minor": 2
}
