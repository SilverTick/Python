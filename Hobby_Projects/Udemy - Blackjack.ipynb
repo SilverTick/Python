{
 "cells": [
  {
   "cell_type": "code",
   "execution_count": 1,
   "metadata": {
    "collapsed": true
   },
   "outputs": [],
   "source": [
    "import numpy as np"
   ]
  },
  {
   "cell_type": "code",
   "execution_count": 2,
   "metadata": {
    "collapsed": true
   },
   "outputs": [],
   "source": [
    "#creating the player and dealer\n",
    "class Player(object):\n",
    "    def __init__(self,money=1000, hand=0, points=0, play='in_play'):\n",
    "        self.money = money\n",
    "        self.hand = hand\n",
    "        self.points = points\n",
    "        self.play = play\n",
    "    \n",
    "    def addmoney(self,amount=100):\n",
    "        self.money += amount\n",
    "        \n",
    "    def lessmoney(self,amount=100):\n",
    "        self.money -= amount\n",
    "        \n",
    "    def draw(self,hand): #number of cards drawn\n",
    "        self.hand += hand\n",
    "        \n",
    "    def addpoints(self,points):\n",
    "        self.points += points\n",
    "        \n",
    "    def stand(self):\n",
    "        self.play = 'stop'\n",
    "        \n",
    "    def bust(self):\n",
    "        self.play = 'bust'\n",
    "        \n",
    "Player1 = Player()\n",
    "Dealer = Player()\n",
    "\n",
    "bet = 0\n",
    "Gameplay = True"
   ]
  },
  {
   "cell_type": "code",
   "execution_count": 3,
   "metadata": {
    "collapsed": true
   },
   "outputs": [],
   "source": [
    "#creating the deck\n",
    "decksuits = ['Diamonds', 'Clubs', 'Hearts', 'Spades']\n",
    "decknum = (list(range(2,11)) + ['Jack','Queen','King','Ace'])\n",
    "deck = []\n",
    "\n",
    "for suit in decksuits:\n",
    "    for num in decknum:\n",
    "        deck.append((num,suit))\n",
    "\n",
    "#shuffling the deck\n",
    "np.random.shuffle(deck)\n",
    "deck_iter = iter(deck)"
   ]
  },
  {
   "cell_type": "code",
   "execution_count": 4,
   "metadata": {
    "collapsed": true
   },
   "outputs": [],
   "source": [
    "#creating the deck points system\n",
    "class Cards(object):\n",
    "    def __init__(self,points):\n",
    "        self.points = points\n",
    "\n",
    "Picture = Cards(points=10) #Jack, Queen or King cards\n",
    "Dealer_Ace = Cards(points=1 if Dealer.points > 10 else 11) #ace points for dealer"
   ]
  },
  {
   "cell_type": "code",
   "execution_count": 5,
   "metadata": {
    "collapsed": true
   },
   "outputs": [],
   "source": [
    "#ace points for player by choice\n",
    "def acepoint():\n",
    "    while True:\n",
    "        try:\n",
    "            choice = int(input(\"You have drawn an Ace. Do you want your Ace points to count as 11 or 1?\"))\n",
    "            return(choice)\n",
    "        except:\n",
    "            print(\"Please try again and only input 11 or 1.\")\n",
    "            continue\n",
    "        else:\n",
    "            break"
   ]
  },
  {
   "cell_type": "code",
   "execution_count": 6,
   "metadata": {
    "collapsed": true
   },
   "outputs": [],
   "source": [
    "#calculating points of card\n",
    "def points(cardnum,turn):\n",
    "    if type(cardnum) == int:\n",
    "        return cardnum\n",
    "    elif cardnum == 'Jack' or cardnum == 'Queen' or cardnum == 'King':\n",
    "        return Picture.points\n",
    "    elif cardnum == 'Ace' and turn == 'dealer':\n",
    "        return Dealer_Ace.points\n",
    "    elif cardnum == 'Ace' and turn == 'player':\n",
    "        return acepoint()"
   ]
  },
  {
   "cell_type": "code",
   "execution_count": 7,
   "metadata": {
    "collapsed": true,
    "scrolled": true
   },
   "outputs": [],
   "source": [
    "#draw a card\n",
    "def draw(turn):\n",
    "    cardnum, cardsuit = next(deck_iter)\n",
    "    point = points(cardnum,turn)\n",
    "    if turn == 'player':\n",
    "        Player1.draw(1)\n",
    "        Player1.addpoints(point)\n",
    "        print(\"You have drawn the \" + str(cardnum) + \" of \" + str(cardsuit) + \". Your current points are \" + str(Player1.points) + \".\")\n",
    "    else:\n",
    "        Dealer.draw(1)\n",
    "        Dealer.addpoints(point)\n",
    "        print(\"Dealer drew the \" + str(cardnum) + \" of \" + str(cardsuit) + \". His current points are \" + str(Dealer.points) + \".\")"
   ]
  },
  {
   "cell_type": "code",
   "execution_count": 8,
   "metadata": {},
   "outputs": [],
   "source": [
    "#check money\n",
    "def checkmoney():\n",
    "    if Player1.money > 0:\n",
    "        print(\"You currently have $\" + str(Player1.money) + \" worth of chips.\")\n",
    "    else:\n",
    "        print(\"Unfortunately you have no more money left! Game Over.\")\n",
    "        global Gameplay\n",
    "        Gameplay = False"
   ]
  },
  {
   "cell_type": "code",
   "execution_count": 9,
   "metadata": {},
   "outputs": [],
   "source": [
    "#endgame\n",
    "def endgame():\n",
    "    checkmoney()\n",
    "    global Gameplay\n",
    "    while Gameplay == True:\n",
    "        replay = input(\"Do you want to play again? Y/N: \")\n",
    "        if replay[0].lower() == 'y':\n",
    "            Player1.points = 0\n",
    "            Dealer.points = 0\n",
    "            Player1.hand = 0\n",
    "            Dealer.hand = 0\n",
    "            Player1.play = 'in_play'\n",
    "            break\n",
    "        elif replay[0].lower() == 'n':\n",
    "            print(\"Game Over! Your final money pool is \" + str(Player1.money) + \".\")\n",
    "            Gameplay = False\n",
    "            break\n",
    "        else:\n",
    "            print(\"Try again - please input only Y/N.\")\n",
    "            continue"
   ]
  },
  {
   "cell_type": "code",
   "execution_count": 10,
   "metadata": {},
   "outputs": [],
   "source": [
    "#check for immediate blackjack\n",
    "def checkblackjack():\n",
    "    if Player1.points == 21 and Player1.hand == 2 and Dealer.points == 21 and Dealer.hand == 2:\n",
    "        print(\"It's a Tie! Your bet is returned.\")\n",
    "        endgame()\n",
    "    elif Player1.points == 21 and Player1.hand == 2:\n",
    "        print(\"BlackJack! You win double your bet amount.\")\n",
    "        Player1.addmoney(bet * 2)\n",
    "        endgame()\n",
    "    elif Dealer.points == 21 and Dealer.hand == 2:\n",
    "        print(\"Dealer got a BlackJack! You lose double your bet amount.\")\n",
    "        Player1.lessmoney(bet * 2)\n",
    "        endgame()\n",
    "    else:\n",
    "        pass"
   ]
  },
  {
   "cell_type": "code",
   "execution_count": 11,
   "metadata": {
    "collapsed": true
   },
   "outputs": [],
   "source": [
    "#check player decision\n",
    "def decision():\n",
    "    while Gameplay == True:\n",
    "        decision = input(\"Player 1, would you like to Hit or Stand?\")\n",
    "        if decision[0].lower() == 'h':\n",
    "            draw('player')\n",
    "            break\n",
    "        elif decision[0].lower() == 's':\n",
    "            Player1.play = 'stop'\n",
    "            break\n",
    "        else:\n",
    "            print(\"Try Again - please input Hit or Stand.\")\n",
    "            continue"
   ]
  },
  {
   "cell_type": "code",
   "execution_count": 12,
   "metadata": {},
   "outputs": [],
   "source": [
    "#check for bust\n",
    "def bust(turn):\n",
    "    if turn == 'player':\n",
    "        if Player1.points > 21:\n",
    "            print(\"Busted - you lose!\")\n",
    "            Player1.lessmoney(bet)\n",
    "            endgame()\n",
    "        else:\n",
    "            pass\n",
    "    else:\n",
    "        if Dealer.points > 21:\n",
    "            print(\"Dealer Busted - you win!\")\n",
    "            Player1.addmoney(bet)\n",
    "            endgame()\n",
    "        else:\n",
    "            pass"
   ]
  },
  {
   "cell_type": "code",
   "execution_count": 13,
   "metadata": {},
   "outputs": [],
   "source": [
    "#check for win\n",
    "def checkwin():\n",
    "    if Player1.points > Dealer.points:\n",
    "        print(\"You win!\")\n",
    "        Player1.addmoney(bet)\n",
    "        endgame()\n",
    "    elif Player1.points == Dealer.points:\n",
    "        print(\"It's a Tie! Your bet is returned.\")\n",
    "        endgame()\n",
    "    elif Player1.points < Dealer.points:\n",
    "        print(\"You lose!\")\n",
    "        Player1.lessmoney(bet)\n",
    "        endgame()"
   ]
  },
  {
   "cell_type": "code",
   "execution_count": 14,
   "metadata": {
    "collapsed": true
   },
   "outputs": [],
   "source": [
    "#dealer move\n",
    "def dealer():\n",
    "    while Dealer.points < 17:\n",
    "        draw('dealer')\n",
    "    else:\n",
    "        pass"
   ]
  },
  {
   "cell_type": "code",
   "execution_count": 15,
   "metadata": {
    "collapsed": true
   },
   "outputs": [],
   "source": [
    "#ask for bet\n",
    "def ask_bet():\n",
    "    while True:\n",
    "        try:\n",
    "            bet_amount = int(input(\"How much would you like to bet?\"))\n",
    "            assert bet_amount < (Player1.money + 1) and bet_amount > 0\n",
    "            global bet\n",
    "            bet = bet_amount\n",
    "            print(\"Your bet is \" + str(bet) + \".\")\n",
    "        except:\n",
    "            print(\"Try again - please only input whole numbers less than 1000.\")\n",
    "        else:\n",
    "            break"
   ]
  },
  {
   "cell_type": "code",
   "execution_count": 16,
   "metadata": {},
   "outputs": [
    {
     "name": "stdout",
     "output_type": "stream",
     "text": [
      "\n",
      "Welcome to BlackJack! \n",
      "You are playing against the Dealer, and you begin with $1000 worth of chips.\n",
      "This game follows the standard rules of BlackJack.\n",
      "\n",
      "How much would you like to bet?1000\n",
      "Your bet is 1000.\n",
      "You have drawn the 5 of Diamonds. Your current points are 5.\n",
      "You have drawn the 8 of Diamonds. Your current points are 13.\n",
      "You are able to see one of the Dealer's cards.\n",
      "Dealer drew the Ace of Hearts. His current points are 11.\n",
      "Player 1, would you like to Hit or Stand?h\n",
      "You have drawn the 6 of Hearts. Your current points are 19.\n",
      "Player 1, would you like to Hit or Stand?h\n",
      "You have drawn the 7 of Hearts. Your current points are 26.\n",
      "Busted - you lose!\n",
      "Unfortunately you have no more money left! Game Over.\n"
     ]
    }
   ],
   "source": [
    "#GamePlay\n",
    "\n",
    "#Welcome\n",
    "print(\"\"\"\n",
    "Welcome to BlackJack! \n",
    "You are playing against the Dealer, and you begin with $1000 worth of chips.\n",
    "This game follows the standard rules of BlackJack.\n",
    "\"\"\")\n",
    "\n",
    "#start of loop\n",
    "while Gameplay == True:\n",
    "    ask_bet()\n",
    "    draw('player') #player draws 2 cards\n",
    "    draw('player')\n",
    "    checkblackjack()\n",
    "    print(\"You are able to see one of the Dealer's cards.\")\n",
    "    draw('dealer') #dealer draws 1 card\n",
    "\n",
    "    while Player1.hand >= 2 and Gameplay == True: #to avoid loop starting here in new game\n",
    "        if Player1.hand >= 2 and Player1.play == 'in_play':\n",
    "            decision()\n",
    "            bust('player')\n",
    "        else:\n",
    "            #dealer's turn and check for win\n",
    "            dealer()\n",
    "            bust('dealer')\n",
    "            if Player1.hand >= 2 and Dealer.hand >= 2:\n",
    "                checkwin()\n",
    "                break\n",
    "            break"
   ]
  },
  {
   "cell_type": "code",
   "execution_count": null,
   "metadata": {
    "collapsed": true
   },
   "outputs": [],
   "source": []
  }
 ],
 "metadata": {
  "kernelspec": {
   "display_name": "Python 3",
   "language": "python",
   "name": "python3"
  },
  "language_info": {
   "codemirror_mode": {
    "name": "ipython",
    "version": 3
   },
   "file_extension": ".py",
   "mimetype": "text/x-python",
   "name": "python",
   "nbconvert_exporter": "python",
   "pygments_lexer": "ipython3",
   "version": "3.6.2"
  }
 },
 "nbformat": 4,
 "nbformat_minor": 2
}
