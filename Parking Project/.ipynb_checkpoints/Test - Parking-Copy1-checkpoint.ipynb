{
 "cells": [
  {
   "cell_type": "code",
   "execution_count": 1,
   "metadata": {
    "collapsed": true
   },
   "outputs": [],
   "source": [
    "import pandas as pd\n",
    "from bs4 import BeautifulSoup\n",
    "import requests\n",
    "#import csv\n",
    "#from datetime import datetime"
   ]
  },
  {
   "cell_type": "code",
   "execution_count": 2,
   "metadata": {},
   "outputs": [
    {
     "name": "stdout",
     "output_type": "stream",
     "text": [
      "*Scape\n",
      "2 Orchard Link, S(237978)\n",
      "\n",
      "\n",
      "\n",
      " MON-FRI Before 5/6 PM\n",
      "\n",
      "$2.05/hr from 7am to 4.59pm \n",
      "\n",
      "\n",
      "\n",
      " MON-FRI After 5/6 PM\n",
      "\n",
      "$5.15 for 1st 3hr, $2.05 for next subsequent hr from 5pm to 6.59am the following day \n",
      "\n",
      "\n",
      "\n",
      " SAT \n",
      "\n",
      "$2.05/hr from 7am to 7am the following day \n",
      "\n",
      "\n",
      "\n",
      " SUN / PUBLIC HOLIDAYS\n",
      "\n",
      "$2.05/hr from 7am to 4.59pm, $5.15 for 1st 3hr, $2.05 for next subsequent hr from 5pm to 6.59am the following day \n",
      "\n",
      "\n",
      "\n",
      "\n",
      "Charges may not be inclusive of GST.\n",
      "\n",
      "\n",
      "\n",
      "Email this page\n",
      "\n",
      "Report Error\n"
     ]
    }
   ],
   "source": [
    "url='http://www.sgcarmart.com/news/carpark_index.php?ID=710&LOC=all&TYP=carpark&SRH=#carparkrates'\n",
    "resp = requests.get(url)\n",
    "html_doc = resp.text\n",
    "\n",
    "soup = BeautifulSoup(html_doc, 'html.parser')\n",
    "price_box = soup.find('div', attrs={'class':'grayboxborder'})\n",
    "data = price_box.text.strip()\n",
    "print(data)"
   ]
  },
  {
   "cell_type": "code",
   "execution_count": 3,
   "metadata": {},
   "outputs": [
    {
     "name": "stdout",
     "output_type": "stream",
     "text": [
      "['*Scape', '2 Orchard Link, S(237978)', ' MON-FRI Before 5/6 PM', '$2.05/hr from 7am to 4.59pm', ' MON-FRI After 5/6 PM', '$5.15 for 1st 3hr, $2.05 for next subsequent hr from 5pm to 6.59am the following day', ' SAT ', '$2.05/hr from 7am to 7am the following day', ' SUN / PUBLIC HOLIDAYS', '$2.05/hr from 7am to 4.59pm, $5.15 for 1st 3hr, $2.05 for next subsequent hr from 5pm to 6.59am the following day', 'Charges may not be inclusive of GST.']\n"
     ]
    }
   ],
   "source": [
    "data_line = data.split('\\n')\n",
    "\n",
    "data2 = []\n",
    "\n",
    "def removebreaks(df):\n",
    "    for line in df:\n",
    "        if line != \"\":\n",
    "            data2.append(line)\n",
    "\n",
    "removebreaks(data_line)\n",
    "\n",
    "data3 = data2[:-2]\n",
    "\n",
    "data4 = []\n",
    "\n",
    "def clean(df):\n",
    "    for line in df:\n",
    "        if '\\xa0' in line:\n",
    "            data4.append(line[:-1])\n",
    "        else:\n",
    "            data4.append(line)\n",
    "           \n",
    "clean(data3)\n",
    "print(data4)"
   ]
  },
  {
   "cell_type": "code",
   "execution_count": 4,
   "metadata": {},
   "outputs": [
    {
     "name": "stdout",
     "output_type": "stream",
     "text": [
      "['*Scape']\n",
      "['2 Orchard Link, S(237978)']\n",
      "['$2.05/hr from 7am to 4.59pm']\n",
      "['$5.15 for 1st 3hr, $2.05 for next subsequent hr from 5pm to 6.59am the following day']\n",
      "['$2.05/hr from 7am to 7am the following day']\n",
      "['$2.05/hr from 7am to 4.59pm, $5.15 for 1st 3hr, $2.05 for next subsequent hr from 5pm to 6.59am the following day']\n",
      "['Carpark Name', 'Carpark Address', 'Mon-Fri before 5/6pm', 'Mon-Fri after 5/6pm', 'Sat', 'Sun/Public Holiday']\n"
     ]
    }
   ],
   "source": [
    "dict = {}\n",
    "dict['Carpark Name'] = [data4[0]]\n",
    "dict['Carpark Address'] = [data4[1]]\n",
    "dict['Mon-Fri before 5/6pm']  = [data4[3]]\n",
    "dict['Mon-Fri after 5/6pm']  = [data4[5]]\n",
    "dict['Sat'] = [data4[7]]\n",
    "dict['Sun/Public Holiday'] = [data4[9]]\n",
    "\n",
    "print(dict['Carpark Name'])\n",
    "print(dict['Carpark Address'])\n",
    "print(dict['Mon-Fri before 5/6pm'])\n",
    "print(dict['Mon-Fri after 5/6pm'])\n",
    "print(dict['Sat'])\n",
    "print(dict['Sun/Public Holiday'])\n",
    "print(list(dict.keys()))"
   ]
  },
  {
   "cell_type": "code",
   "execution_count": 21,
   "metadata": {
    "scrolled": true
   },
   "outputs": [],
   "source": [
    "df = pd.DataFrame.from_dict(dict)\n",
    "df.to_csv('parking3.csv', index=False, columns=['Carpark Name','Carpark Address','Mon-Fri before 5/6pm','Mon-Fri after 5/6pm','Sat','Sun/Public Holiday'])"
   ]
  },
  {
   "cell_type": "code",
   "execution_count": 22,
   "metadata": {},
   "outputs": [
    {
     "data": {
      "text/html": [
       "<div>\n",
       "<style>\n",
       "    .dataframe thead tr:only-child th {\n",
       "        text-align: right;\n",
       "    }\n",
       "\n",
       "    .dataframe thead th {\n",
       "        text-align: left;\n",
       "    }\n",
       "\n",
       "    .dataframe tbody tr th {\n",
       "        vertical-align: top;\n",
       "    }\n",
       "</style>\n",
       "<table border=\"1\" class=\"dataframe\">\n",
       "  <thead>\n",
       "    <tr style=\"text-align: right;\">\n",
       "      <th></th>\n",
       "      <th>Carpark Name</th>\n",
       "      <th>Carpark Address</th>\n",
       "      <th>Mon-Fri before 5/6pm</th>\n",
       "      <th>Mon-Fri after 5/6pm</th>\n",
       "      <th>Sat</th>\n",
       "      <th>Sun/Public Holiday</th>\n",
       "    </tr>\n",
       "  </thead>\n",
       "  <tbody>\n",
       "    <tr>\n",
       "      <th>0</th>\n",
       "      <td>*Scape</td>\n",
       "      <td>2 Orchard Link, S(237978)</td>\n",
       "      <td>$2.05/hr from 7am to 4.59pm</td>\n",
       "      <td>$5.15 for 1st 3hr, $2.05 for next subsequent h...</td>\n",
       "      <td>$2.05/hr from 7am to 7am the following day</td>\n",
       "      <td>$2.05/hr from 7am to 4.59pm, $5.15 for 1st 3hr...</td>\n",
       "    </tr>\n",
       "    <tr>\n",
       "      <th>1</th>\n",
       "      <td>Kreta Ayer People's Theatre</td>\n",
       "      <td>30A Kreta Ayer Road, S(088997)\\r</td>\n",
       "      <td>$1.00/30min from 7am to 5pm</td>\n",
       "      <td>$0.50/30min from 5pm to 10pm</td>\n",
       "      <td>Same as Weekdays</td>\n",
       "      <td>Same as Weekdays</td>\n",
       "    </tr>\n",
       "  </tbody>\n",
       "</table>\n",
       "</div>"
      ],
      "text/plain": [
       "                   Carpark Name                   Carpark Address  \\\n",
       "0                        *Scape         2 Orchard Link, S(237978)   \n",
       "1  Kreta Ayer People's Theatre   30A Kreta Ayer Road, S(088997)\\r   \n",
       "\n",
       "          Mon-Fri before 5/6pm  \\\n",
       "0  $2.05/hr from 7am to 4.59pm   \n",
       "1  $1.00/30min from 7am to 5pm   \n",
       "\n",
       "                                 Mon-Fri after 5/6pm  \\\n",
       "0  $5.15 for 1st 3hr, $2.05 for next subsequent h...   \n",
       "1                       $0.50/30min from 5pm to 10pm   \n",
       "\n",
       "                                          Sat  \\\n",
       "0  $2.05/hr from 7am to 7am the following day   \n",
       "1                            Same as Weekdays   \n",
       "\n",
       "                                  Sun/Public Holiday  \n",
       "0  $2.05/hr from 7am to 4.59pm, $5.15 for 1st 3hr...  \n",
       "1                                   Same as Weekdays  "
      ]
     },
     "execution_count": 22,
     "metadata": {},
     "output_type": "execute_result"
    }
   ],
   "source": [
    "dfcsv = pd.read_csv('parking3.csv')\n",
    "dfcsv"
   ]
  },
  {
   "cell_type": "code",
   "execution_count": null,
   "metadata": {
    "collapsed": true
   },
   "outputs": [],
   "source": []
  },
  {
   "cell_type": "code",
   "execution_count": 23,
   "metadata": {},
   "outputs": [
    {
     "data": {
      "text/plain": [
       "0           MON-FRI Before 5/6 PM\n",
       "1     $1.00/30min from 7am to 5pm\n",
       "2            MON-FRI After 5/6 PM\n",
       "3    $0.50/30min from 5pm to 10pm\n",
       "4                             SAT\n",
       "5                Same as Weekdays\n",
       "6           SUN / PUBLIC HOLIDAYS\n",
       "7                Same as Weekdays\n",
       "Name: 0, dtype: object"
      ]
     },
     "execution_count": 23,
     "metadata": {},
     "output_type": "execute_result"
    }
   ],
   "source": [
    "url='http://www.sgcarmart.com/news/carpark_index.php?ID=714&LOC=all&TYP=carpark&SRH=#carparkrates'\n",
    "\n",
    "dfs = pd.read_html(url)\n",
    "data = dfs[6]\n",
    "full_table = data.iloc[:,0]\n",
    "full_table"
   ]
  },
  {
   "cell_type": "code",
   "execution_count": 24,
   "metadata": {},
   "outputs": [
    {
     "name": "stdout",
     "output_type": "stream",
     "text": [
      "Kreta Ayer People's Theatre  30A Kreta Ayer Road, S(088997)\r\n"
     ]
    }
   ],
   "source": [
    "resp = requests.get(url)\n",
    "html_doc = resp.text\n",
    "soup = BeautifulSoup(html_doc, 'html.parser')\n",
    "\n",
    "title = soup.find(class_=\"grayboxborder\")\n",
    "location = title.text.strip()\n",
    "loc = location.split(\"\\n\")\n",
    "location = loc[0]\n",
    "address = loc[1]\n",
    "print(location,address)"
   ]
  },
  {
   "cell_type": "code",
   "execution_count": 25,
   "metadata": {},
   "outputs": [
    {
     "name": "stdout",
     "output_type": "stream",
     "text": [
      "['2 Orchard Link, S(237978)', '30A Kreta Ayer Road, S(088997)\\r', '30A Kreta Ayer Road, S(088997)\\r']\n",
      "['$2.05/hr from 7am to 4.59pm', '$1.00/30min from 7am to 5pm', '$1.00/30min from 7am to 5pm']\n",
      "['$5.15 for 1st 3hr, $2.05 for next subsequent hr from 5pm to 6.59am the following day', '$0.50/30min from 5pm to 10pm', '$0.50/30min from 5pm to 10pm']\n",
      "['$2.05/hr from 7am to 7am the following day', 'Same as Weekdays', 'Same as Weekdays']\n",
      "['$2.05/hr from 7am to 4.59pm, $5.15 for 1st 3hr, $2.05 for next subsequent hr from 5pm to 6.59am the following day', 'Same as Weekdays', 'Same as Weekdays']\n",
      "['Carpark Name', 'Carpark Address', 'Mon-Fri before 5/6pm', 'Mon-Fri after 5/6pm', 'Sat', 'Sun/Public Holiday']\n"
     ]
    }
   ],
   "source": [
    "dict['Carpark Name'].append(location)\n",
    "dict['Carpark Address'].append(address)\n",
    "dict['Mon-Fri before 5/6pm'].append(full_table[1])\n",
    "dict['Mon-Fri after 5/6pm'].append(full_table[3])\n",
    "dict['Sat'].append(full_table[5])\n",
    "dict['Sun/Public Holiday'].append(full_table[7])\n",
    "print(dict['Carpark Address'])\n",
    "print(dict['Mon-Fri before 5/6pm'])\n",
    "print(dict['Mon-Fri after 5/6pm'])\n",
    "print(dict['Sat'])\n",
    "print(dict['Sun/Public Holiday'])\n",
    "print(list(dict.keys()))"
   ]
  },
  {
   "cell_type": "code",
   "execution_count": 26,
   "metadata": {},
   "outputs": [
    {
     "data": {
      "text/html": [
       "<div>\n",
       "<style>\n",
       "    .dataframe thead tr:only-child th {\n",
       "        text-align: right;\n",
       "    }\n",
       "\n",
       "    .dataframe thead th {\n",
       "        text-align: left;\n",
       "    }\n",
       "\n",
       "    .dataframe tbody tr th {\n",
       "        vertical-align: top;\n",
       "    }\n",
       "</style>\n",
       "<table border=\"1\" class=\"dataframe\">\n",
       "  <thead>\n",
       "    <tr style=\"text-align: right;\">\n",
       "      <th></th>\n",
       "      <th>Carpark Address</th>\n",
       "      <th>Carpark Name</th>\n",
       "      <th>Mon-Fri after 5/6pm</th>\n",
       "      <th>Mon-Fri before 5/6pm</th>\n",
       "      <th>Sat</th>\n",
       "      <th>Sun/Public Holiday</th>\n",
       "    </tr>\n",
       "  </thead>\n",
       "  <tbody>\n",
       "    <tr>\n",
       "      <th>0</th>\n",
       "      <td>2 Orchard Link, S(237978)</td>\n",
       "      <td>*Scape</td>\n",
       "      <td>$5.15 for 1st 3hr, $2.05 for next subsequent h...</td>\n",
       "      <td>$2.05/hr from 7am to 4.59pm</td>\n",
       "      <td>$2.05/hr from 7am to 7am the following day</td>\n",
       "      <td>$2.05/hr from 7am to 4.59pm, $5.15 for 1st 3hr...</td>\n",
       "    </tr>\n",
       "    <tr>\n",
       "      <th>1</th>\n",
       "      <td>30A Kreta Ayer Road, S(088997)\\r</td>\n",
       "      <td>Kreta Ayer People's Theatre</td>\n",
       "      <td>$0.50/30min from 5pm to 10pm</td>\n",
       "      <td>$1.00/30min from 7am to 5pm</td>\n",
       "      <td>Same as Weekdays</td>\n",
       "      <td>Same as Weekdays</td>\n",
       "    </tr>\n",
       "  </tbody>\n",
       "</table>\n",
       "</div>"
      ],
      "text/plain": [
       "                    Carpark Address                  Carpark Name  \\\n",
       "0         2 Orchard Link, S(237978)                        *Scape   \n",
       "1  30A Kreta Ayer Road, S(088997)\\r  Kreta Ayer People's Theatre    \n",
       "\n",
       "                                 Mon-Fri after 5/6pm  \\\n",
       "0  $5.15 for 1st 3hr, $2.05 for next subsequent h...   \n",
       "1                       $0.50/30min from 5pm to 10pm   \n",
       "\n",
       "          Mon-Fri before 5/6pm                                         Sat  \\\n",
       "0  $2.05/hr from 7am to 4.59pm  $2.05/hr from 7am to 7am the following day   \n",
       "1  $1.00/30min from 7am to 5pm                            Same as Weekdays   \n",
       "\n",
       "                                  Sun/Public Holiday  \n",
       "0  $2.05/hr from 7am to 4.59pm, $5.15 for 1st 3hr...  \n",
       "1                                   Same as Weekdays  "
      ]
     },
     "execution_count": 26,
     "metadata": {},
     "output_type": "execute_result"
    }
   ],
   "source": [
    "df"
   ]
  },
  {
   "cell_type": "code",
   "execution_count": null,
   "metadata": {
    "collapsed": true
   },
   "outputs": [],
   "source": []
  }
 ],
 "metadata": {
  "kernelspec": {
   "display_name": "Python 3",
   "language": "python",
   "name": "python3"
  },
  "language_info": {
   "codemirror_mode": {
    "name": "ipython",
    "version": 3
   },
   "file_extension": ".py",
   "mimetype": "text/x-python",
   "name": "python",
   "nbconvert_exporter": "python",
   "pygments_lexer": "ipython3",
   "version": "3.6.2"
  }
 },
 "nbformat": 4,
 "nbformat_minor": 2
}
