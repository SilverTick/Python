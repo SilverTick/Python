{
 "cells": [
  {
   "cell_type": "code",
   "execution_count": null,
   "metadata": {
    "collapsed": true
   },
   "outputs": [],
   "source": [
    "import pandas as pd\n",
    "from bs4 import BeautifulSoup\n",
    "import requests\n",
    "import collections"
   ]
  },
  {
   "cell_type": "code",
   "execution_count": null,
   "metadata": {
    "collapsed": true
   },
   "outputs": [],
   "source": [
    "keys = ['Carpark Name', 'Carpark Address', 'Mon-Fri before 5/6pm', 'Mon-Fri after 5/6pm', 'Sat', 'Sun/Public Holiday']\n",
    "dict = collections.OrderedDict((key,[]) for key in keys)\n",
    "\n",
    "location = 'na'\n",
    "address = 'na'\n",
    "full_table = 0\n",
    "url = 'na'"
   ]
  },
  {
   "cell_type": "code",
   "execution_count": null,
   "metadata": {
    "collapsed": true
   },
   "outputs": [],
   "source": [
    "def readurl(url):\n",
    "    \"\"\"\n",
    "    This function takes the website url and returns the full table containing the required info\n",
    "    \"\"\"\n",
    "    dfs = pd.read_html(url)\n",
    "    data = dfs[6]\n",
    "    global full_table\n",
    "    full_table = data.iloc[:,0]\n",
    "    return full_table"
   ]
  },
  {
   "cell_type": "code",
   "execution_count": null,
   "metadata": {
    "collapsed": true
   },
   "outputs": [],
   "source": [
    "def add_and_loc(url):\n",
    "    \"\"\"\n",
    "    This function takes the website url and returns the location and address of the carpark\n",
    "    \"\"\"\n",
    "    resp = requests.get(url)\n",
    "    html_doc = resp.text\n",
    "    soup = BeautifulSoup(html_doc, 'html.parser')\n",
    "\n",
    "    title = soup.find(class_=\"grayboxborder\")\n",
    "    global location\n",
    "    location = title.text.strip()\n",
    "    loc = location.split(\"\\n\")\n",
    "    location = loc[0]\n",
    "    global address\n",
    "    address = loc[1].rstrip()\n",
    "    return location, address"
   ]
  },
  {
   "cell_type": "code",
   "execution_count": null,
   "metadata": {
    "collapsed": true
   },
   "outputs": [],
   "source": [
    "def append(table,location,address):\n",
    "    \"\"\"\n",
    "    This function takes all the info, location and address of the carpark and appends it to the dictionary\n",
    "    \"\"\"\n",
    "    global dict\n",
    "    dict['Carpark Name'].append(location)\n",
    "    dict['Carpark Address'].append(address)\n",
    "    dict['Mon-Fri before 5/6pm'].append(full_table[1].replace('$','\\$'))\n",
    "    dict['Mon-Fri after 5/6pm'].append(full_table[3].replace('$','\\$'))\n",
    "    dict['Sat'].append(full_table[5].replace('$','\\$'))\n",
    "    dict['Sun/Public Holiday'].append(full_table[7].replace('$','\\$'))"
   ]
  },
  {
   "cell_type": "code",
   "execution_count": null,
   "metadata": {},
   "outputs": [],
   "source": [
    "#repeat the scraping across webpages, up to 914\n",
    "for i in range (1,915):\n",
    "    try:\n",
    "        front_url = 'http://www.sgcarmart.com/news/carpark_index.php?ID='\n",
    "        back_url = '&LOC=all&TYP=carpark&SRH=#carparkrates'\n",
    "        url = front_url + str(\"%03d\" % i) + back_url\n",
    "        readurl(url)\n",
    "        add_and_loc(url)\n",
    "        append(full_table,location,address)\n",
    "    except AttributeError:\n",
    "        print(url + ' val')\n",
    "        i += 1\n",
    "        continue\n",
    "    except ValueError:\n",
    "        print(url + ' val')\n",
    "        i += 1\n",
    "        continue\n",
    "    except IndexError:\n",
    "        print(url + ' index')\n",
    "        i += 1\n",
    "        continue"
   ]
  },
  {
   "cell_type": "code",
   "execution_count": null,
   "metadata": {
    "scrolled": true
   },
   "outputs": [],
   "source": [
    "df = pd.DataFrame.from_dict(dict, orient='index')\n",
    "dft = df.transpose()\n",
    "df.to_csv('Parking_20170918.csv', index=False)"
   ]
  },
  {
   "cell_type": "code",
   "execution_count": null,
   "metadata": {
    "collapsed": true
   },
   "outputs": [],
   "source": []
  }
 ],
 "metadata": {
  "kernelspec": {
   "display_name": "Python 3",
   "language": "python",
   "name": "python3"
  },
  "language_info": {
   "codemirror_mode": {
    "name": "ipython",
    "version": 3
   },
   "file_extension": ".py",
   "mimetype": "text/x-python",
   "name": "python",
   "nbconvert_exporter": "python",
   "pygments_lexer": "ipython3",
   "version": "3.6.2"
  }
 },
 "nbformat": 4,
 "nbformat_minor": 2
}
