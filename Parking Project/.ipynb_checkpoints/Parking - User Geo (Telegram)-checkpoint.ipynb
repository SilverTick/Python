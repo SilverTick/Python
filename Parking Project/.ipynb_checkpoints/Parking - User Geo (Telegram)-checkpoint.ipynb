{
 "cells": [
  {
   "cell_type": "code",
   "execution_count": null,
   "metadata": {
    "collapsed": true
   },
   "outputs": [],
   "source": [
    "#https://api.telegram.org/bot399596635:AAG_PO9ZC0whC8_W1PI4K1OfEO0lEAB10pc/sendMessage?chat_id=217633984&text=testing&request_location=True"
   ]
  },
  {
   "cell_type": "code",
   "execution_count": null,
   "metadata": {
    "collapsed": true
   },
   "outputs": [],
   "source": [
    "# SGParkingBot: The friendliest SGParking bot - send me a location and I will tell you the FIVE nearest carparks!\n",
    "\n",
    "import telegram\n",
    "from telegram.ext import Updater, CommandHandler, MessageHandler, Filters\n",
    "import logging\n",
    "\n",
    "#Enable logging\n",
    "logging.basicConfig(format='%(asctime)s - %(name)s - %(levelname)s - %(message)s', level=logging.INFO)\n",
    "\n",
    "#main stuff\n",
    "bot = telegram.Bot(token='399596635:AAG_PO9ZC0whC8_W1PI4K1OfEO0lEAB10pc')\n",
    "updater = Updater(token='399596635:AAG_PO9ZC0whC8_W1PI4K1OfEO0lEAB10pc')\n",
    "dispatcher = updater.dispatcher"
   ]
  },
  {
   "cell_type": "code",
   "execution_count": null,
   "metadata": {
    "collapsed": true
   },
   "outputs": [],
   "source": [
    "def start(bot, update):\n",
    "    location_keyboard = telegram.KeyboardButton(text=\"Send current location\", request_location=True)\n",
    "    postal_code = telegram.KeyboardButton(text=\"Input a postal code\")\n",
    "    custom_keyboard = [[location_keyboard, postal_code]]\n",
    "    reply_markup = telegram.ReplyKeyboardMarkup(custom_keyboard, one_time_keyboard=True, resize_keyboard=True)\n",
    "    bot.send_message(chat_id=update.message.chat_id, text=\"Hello hello! You want to send me your current location or input a postal code?\", reply_markup=reply_markup)\n",
    "\n",
    "start_handler = CommandHandler('start', start)\n",
    "dispatcher.add_handler(start_handler)\n",
    "    "
   ]
  },
  {
   "cell_type": "code",
   "execution_count": null,
   "metadata": {
    "collapsed": true
   },
   "outputs": [],
   "source": [
    "def location(bot, update):\n",
    "    bot.send_message(chat_id=update.message.chat_id, text=\"You wait ah...\")\n",
    "        \n",
    "\n",
    "location_handler = MessageHandler(Filters.location, location)\n",
    "dispatcher.add_handler(location_handler)  "
   ]
  },
  {
   "cell_type": "code",
   "execution_count": null,
   "metadata": {
    "collapsed": true
   },
   "outputs": [],
   "source": [
    "def respond(bot, update):\n",
    "    bot.send_message(chat_id=update.message.chat_id, text=\"Ok please give me a postal code (6 digits only hor)\")\n",
    "\n",
    "#update.message.reply_text(\"Postal code not valid leh.\\nPlease try again.\\nOr you want send location?\", reply_markup=reply_markup)\n",
    "\n",
    "respond_handler = MessageHandler(Filters.text, respond)\n",
    "dispatcher.add_handler(respond_handler)           "
   ]
  },
  {
   "cell_type": "code",
   "execution_count": null,
   "metadata": {
    "collapsed": true
   },
   "outputs": [],
   "source": [
    "def help(bot, update):\n",
    "    bot.send_message(chat_id=update.message.chat_id, text=\"Type /start  to begin!\")\n",
    "\n",
    "help_handler = CommandHandler('help', help)\n",
    "dispatcher.add_handler(help_handler)"
   ]
  },
  {
   "cell_type": "code",
   "execution_count": null,
   "metadata": {
    "collapsed": true
   },
   "outputs": [],
   "source": [
    "def unknown(bot, update):\n",
    "    bot.send_message(chat_id=update.message.chat_id, text=\"Sorry, I didn't understand that command.\")\n",
    "\n",
    "unknown_handler = MessageHandler(Filters.command, unknown)\n",
    "dispatcher.add_handler(unknown_handler)"
   ]
  },
  {
   "cell_type": "code",
   "execution_count": null,
   "metadata": {},
   "outputs": [],
   "source": [
    "#to start\n",
    "updater.start_polling()"
   ]
  },
  {
   "cell_type": "code",
   "execution_count": null,
   "metadata": {},
   "outputs": [],
   "source": [
    "#to stop\n",
    "#updater.stop()"
   ]
  },
  {
   "cell_type": "code",
   "execution_count": null,
   "metadata": {
    "collapsed": true
   },
   "outputs": [],
   "source": []
  }
 ],
 "metadata": {
  "kernelspec": {
   "display_name": "Python 3",
   "language": "python",
   "name": "python3"
  },
  "language_info": {
   "codemirror_mode": {
    "name": "ipython",
    "version": 3
   },
   "file_extension": ".py",
   "mimetype": "text/x-python",
   "name": "python",
   "nbconvert_exporter": "python",
   "pygments_lexer": "ipython3",
   "version": "3.6.2"
  }
 },
 "nbformat": 4,
 "nbformat_minor": 2
}
