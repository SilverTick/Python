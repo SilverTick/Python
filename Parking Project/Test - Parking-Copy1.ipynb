{
 "cells": [
  {
   "cell_type": "code",
   "execution_count": 1,
   "metadata": {
    "collapsed": true
   },
   "outputs": [],
   "source": [
    "import pandas as pd\n",
    "from bs4 import BeautifulSoup\n",
    "import requests\n",
    "import collections"
   ]
  },
  {
   "cell_type": "code",
   "execution_count": 2,
   "metadata": {},
   "outputs": [],
   "source": [
    "keys = ['Carpark Name', 'Carpark Address', 'Mon-Fri before 5/6pm', 'Mon-Fri after 5/6pm', 'Sat', 'Sun/Public Holiday']\n",
    "dict = collections.OrderedDict((key,[]) for key in keys)"
   ]
  },
  {
   "cell_type": "code",
   "execution_count": 3,
   "metadata": {},
   "outputs": [
    {
     "data": {
      "text/plain": [
       "0           MON-FRI Before 5/6 PM\n",
       "1     $1.00/30min from 7am to 5pm\n",
       "2            MON-FRI After 5/6 PM\n",
       "3    $0.50/30min from 5pm to 10pm\n",
       "4                             SAT\n",
       "5                Same as Weekdays\n",
       "6           SUN / PUBLIC HOLIDAYS\n",
       "7                Same as Weekdays\n",
       "Name: 0, dtype: object"
      ]
     },
     "execution_count": 3,
     "metadata": {},
     "output_type": "execute_result"
    }
   ],
   "source": [
    "url='http://www.sgcarmart.com/news/carpark_index.php?ID=714&LOC=all&TYP=carpark&SRH=#carparkrates'\n",
    "\n",
    "dfs = pd.read_html(url)\n",
    "data = dfs[6]\n",
    "full_table = data.iloc[:,0]\n",
    "full_table"
   ]
  },
  {
   "cell_type": "code",
   "execution_count": 8,
   "metadata": {},
   "outputs": [],
   "source": [
    "resp = requests.get(url)\n",
    "html_doc = resp.text\n",
    "soup = BeautifulSoup(html_doc, 'html.parser')\n",
    "\n",
    "title = soup.find(class_=\"grayboxborder\")\n",
    "location = title.text.strip()\n",
    "loc = location.split(\"\\n\")\n",
    "location = loc[0]\n",
    "address = loc[1].rstrip()"
   ]
  },
  {
   "cell_type": "code",
   "execution_count": 5,
   "metadata": {},
   "outputs": [],
   "source": [
    "dict['Carpark Name'].append(location)\n",
    "dict['Carpark Address'].append(address)\n",
    "dict['Mon-Fri before 5/6pm'].append(full_table[1])\n",
    "dict['Mon-Fri after 5/6pm'].append(full_table[3])\n",
    "dict['Sat'].append(full_table[5])\n",
    "dict['Sun/Public Holiday'].append(full_table[7])"
   ]
  },
  {
   "cell_type": "code",
   "execution_count": 6,
   "metadata": {
    "scrolled": true
   },
   "outputs": [
    {
     "data": {
      "text/html": [
       "<div>\n",
       "<style>\n",
       "    .dataframe thead tr:only-child th {\n",
       "        text-align: right;\n",
       "    }\n",
       "\n",
       "    .dataframe thead th {\n",
       "        text-align: left;\n",
       "    }\n",
       "\n",
       "    .dataframe tbody tr th {\n",
       "        vertical-align: top;\n",
       "    }\n",
       "</style>\n",
       "<table border=\"1\" class=\"dataframe\">\n",
       "  <thead>\n",
       "    <tr style=\"text-align: right;\">\n",
       "      <th></th>\n",
       "      <th>Carpark Name</th>\n",
       "      <th>Carpark Address</th>\n",
       "      <th>Mon-Fri before 5/6pm</th>\n",
       "      <th>Mon-Fri after 5/6pm</th>\n",
       "      <th>Sat</th>\n",
       "      <th>Sun/Public Holiday</th>\n",
       "    </tr>\n",
       "  </thead>\n",
       "  <tbody>\n",
       "    <tr>\n",
       "      <th>0</th>\n",
       "      <td>Kreta Ayer People's Theatre</td>\n",
       "      <td>30A Kreta Ayer Road, S(088997)</td>\n",
       "      <td>$1.00/30min from 7am to 5pm</td>\n",
       "      <td>$0.50/30min from 5pm to 10pm</td>\n",
       "      <td>Same as Weekdays</td>\n",
       "      <td>Same as Weekdays</td>\n",
       "    </tr>\n",
       "  </tbody>\n",
       "</table>\n",
       "</div>"
      ],
      "text/plain": [
       "                   Carpark Name                 Carpark Address  \\\n",
       "0  Kreta Ayer People's Theatre   30A Kreta Ayer Road, S(088997)   \n",
       "\n",
       "          Mon-Fri before 5/6pm           Mon-Fri after 5/6pm  \\\n",
       "0  $1.00/30min from 7am to 5pm  $0.50/30min from 5pm to 10pm   \n",
       "\n",
       "                Sat Sun/Public Holiday  \n",
       "0  Same as Weekdays   Same as Weekdays  "
      ]
     },
     "execution_count": 6,
     "metadata": {},
     "output_type": "execute_result"
    }
   ],
   "source": [
    "df = pd.DataFrame.from_dict(dict)\n",
    "df"
   ]
  },
  {
   "cell_type": "code",
   "execution_count": 7,
   "metadata": {},
   "outputs": [
    {
     "data": {
      "text/html": [
       "<div>\n",
       "<style>\n",
       "    .dataframe thead tr:only-child th {\n",
       "        text-align: right;\n",
       "    }\n",
       "\n",
       "    .dataframe thead th {\n",
       "        text-align: left;\n",
       "    }\n",
       "\n",
       "    .dataframe tbody tr th {\n",
       "        vertical-align: top;\n",
       "    }\n",
       "</style>\n",
       "<table border=\"1\" class=\"dataframe\">\n",
       "  <thead>\n",
       "    <tr style=\"text-align: right;\">\n",
       "      <th></th>\n",
       "      <th>Carpark Name</th>\n",
       "      <th>Carpark Address</th>\n",
       "      <th>Mon-Fri before 5/6pm</th>\n",
       "      <th>Mon-Fri after 5/6pm</th>\n",
       "      <th>Sat</th>\n",
       "      <th>Sun/Public Holiday</th>\n",
       "    </tr>\n",
       "  </thead>\n",
       "  <tbody>\n",
       "    <tr>\n",
       "      <th>0</th>\n",
       "      <td>Kreta Ayer People's Theatre</td>\n",
       "      <td>30A Kreta Ayer Road, S(088997)</td>\n",
       "      <td>$1.00/30min from 7am to 5pm</td>\n",
       "      <td>$0.50/30min from 5pm to 10pm</td>\n",
       "      <td>Same as Weekdays</td>\n",
       "      <td>Same as Weekdays</td>\n",
       "    </tr>\n",
       "  </tbody>\n",
       "</table>\n",
       "</div>"
      ],
      "text/plain": [
       "                   Carpark Name                 Carpark Address  \\\n",
       "0  Kreta Ayer People's Theatre   30A Kreta Ayer Road, S(088997)   \n",
       "\n",
       "          Mon-Fri before 5/6pm           Mon-Fri after 5/6pm  \\\n",
       "0  $1.00/30min from 7am to 5pm  $0.50/30min from 5pm to 10pm   \n",
       "\n",
       "                Sat Sun/Public Holiday  \n",
       "0  Same as Weekdays   Same as Weekdays  "
      ]
     },
     "execution_count": 7,
     "metadata": {},
     "output_type": "execute_result"
    }
   ],
   "source": [
    "df.to_csv('parking3.csv', index=False)\n",
    "dfcsv = pd.read_csv('parking3.csv')\n",
    "dfcsv"
   ]
  },
  {
   "cell_type": "code",
   "execution_count": null,
   "metadata": {
    "collapsed": true
   },
   "outputs": [],
   "source": []
  }
 ],
 "metadata": {
  "kernelspec": {
   "display_name": "Python 3",
   "language": "python",
   "name": "python3"
  },
  "language_info": {
   "codemirror_mode": {
    "name": "ipython",
    "version": 3
   },
   "file_extension": ".py",
   "mimetype": "text/x-python",
   "name": "python",
   "nbconvert_exporter": "python",
   "pygments_lexer": "ipython3",
   "version": "3.6.2"
  }
 },
 "nbformat": 4,
 "nbformat_minor": 2
}
