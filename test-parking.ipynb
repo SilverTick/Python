{
 "cells": [
  {
   "cell_type": "code",
   "execution_count": 2,
   "metadata": {},
   "outputs": [],
   "source": [
    "import pandas as pd\n",
    "from bs4 import BeautifulSoup"
   ]
  },
  {
   "cell_type": "code",
   "execution_count": 12,
   "metadata": {},
   "outputs": [
    {
     "name": "stdout",
     "output_type": "stream",
     "text": [
      "*Scape\n",
      "2 Orchard Link, S(237978)\n",
      "\n",
      "\n",
      "\n",
      " MON-FRI Before 5/6 PM\n",
      "\n",
      "$2.05/hr from 7am to 4.59pm \n",
      "\n",
      "\n",
      "\n",
      " MON-FRI After 5/6 PM\n",
      "\n",
      "$5.15 for 1st 3hr, $2.05 for next subsequent hr from 5pm to 6.59am the following day \n",
      "\n",
      "\n",
      "\n",
      " SAT \n",
      "\n",
      "$2.05/hr from 7am to 7am the following day \n",
      "\n",
      "\n",
      "\n",
      " SUN / PUBLIC HOLIDAYS\n",
      "\n",
      "$2.05/hr from 7am to 4.59pm, $5.15 for 1st 3hr, $2.05 for next subsequent hr from 5pm to 6.59am the following day \n",
      "\n",
      "\n",
      "\n",
      "\n",
      "Charges may not be inclusive of GST.\n",
      "\n",
      "\n",
      "\n",
      "Email this page\n",
      "\n",
      "Report Error\n"
     ]
    }
   ],
   "source": [
    "import requests\n",
    "url='http://www.sgcarmart.com/news/carpark_index.php?ID=710&LOC=all&TYP=carpark&SRH=#carparkrates'\n",
    "resp = requests.get(url)\n",
    "html_doc = resp.text\n",
    "\n",
    "soup = BeautifulSoup(html_doc, 'html.parser')\n",
    "price_box = soup.find('div', attrs={'class':'grayboxborder'})\n",
    "name = price_box.text.strip()\n",
    "print(name)"
   ]
  },
  {
   "cell_type": "code",
   "execution_count": 23,
   "metadata": {
    "scrolled": true
   },
   "outputs": [
    {
     "ename": "NameError",
     "evalue": "name 'soup' is not defined",
     "output_type": "error",
     "traceback": [
      "\u001b[0;31m---------------------------------------------------------------------------\u001b[0m",
      "\u001b[0;31mNameError\u001b[0m                                 Traceback (most recent call last)",
      "\u001b[0;32m<ipython-input-23-57bec2586009>\u001b[0m in \u001b[0;36m<module>\u001b[0;34m()\u001b[0m\n\u001b[0;32m----> 1\u001b[0;31m \u001b[0ma_tags\u001b[0m \u001b[0;34m=\u001b[0m \u001b[0msoup\u001b[0m\u001b[0;34m.\u001b[0m\u001b[0mfind_all\u001b[0m\u001b[0;34m(\u001b[0m\u001b[0;34m'MON-FRI'\u001b[0m\u001b[0;34m)\u001b[0m\u001b[0;34m\u001b[0m\u001b[0m\n\u001b[0m",
      "\u001b[0;31mNameError\u001b[0m: name 'soup' is not defined"
     ]
    }
   ],
   "source": []
  },
  {
   "cell_type": "code",
   "execution_count": null,
   "metadata": {
    "collapsed": true
   },
   "outputs": [],
   "source": []
  }
 ],
 "metadata": {
  "kernelspec": {
   "display_name": "Python 3",
   "language": "python",
   "name": "python3"
  },
  "language_info": {
   "codemirror_mode": {
    "name": "ipython",
    "version": 3
   },
   "file_extension": ".py",
   "mimetype": "text/x-python",
   "name": "python",
   "nbconvert_exporter": "python",
   "pygments_lexer": "ipython3",
   "version": "3.6.2"
  }
 },
 "nbformat": 4,
 "nbformat_minor": 2
}
