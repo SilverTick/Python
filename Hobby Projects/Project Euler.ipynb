{
 "cells": [
  {
   "cell_type": "code",
   "execution_count": 91,
   "metadata": {},
   "outputs": [
    {
     "name": "stdout",
     "output_type": "stream",
     "text": [
      "Sum of all the multiples of 3 or 5 below 1000 is: 233168\n"
     ]
    }
   ],
   "source": [
    "#ID1\n",
    "\n",
    "#init sum of numbers\n",
    "max_value = 1000\n",
    "sum_num = []\n",
    "\n",
    "#for numbers below max_value, if divisible by 3 or 5, add to list x\n",
    "for num in range(max_value):\n",
    "    if num % 3 == 0 or num % 5 == 0:\n",
    "        sum_num.append(num)\n",
    "    else:\n",
    "        pass\n",
    "        \n",
    "print(\"Sum of all the multiples of 3 or 5 below 1000 is: \" + str(sum(sum_num)))"
   ]
  },
  {
   "cell_type": "code",
   "execution_count": 92,
   "metadata": {},
   "outputs": [
    {
     "name": "stdout",
     "output_type": "stream",
     "text": [
      "Sum of even fibonacci numbers less than 4 million = 4613732\n"
     ]
    }
   ],
   "source": [
    "#ID2\n",
    "\n",
    "#init fibonacci, next fibonacci number and sum of even fibonacci numbers\n",
    "max_value = 4000000\n",
    "fibonacci = [1,1]\n",
    "next_fibo = 0\n",
    "sum_of_even = 0\n",
    "\n",
    "#for next_fibo less than max value, give next_fibo number by sum of last two numbers, then replace with new numbers.\n",
    "while next_fibo < max_value:\n",
    "    next_fibo = fibonacci[0] + fibonacci[1]\n",
    "    fibonacci[0] = fibonacci[1]\n",
    "    fibonacci[1] = next_fibo\n",
    "    \n",
    "    if next_fibo % 2 == 0: #if number is even, add to sum\n",
    "        sum_of_even += next_fibo\n",
    "#\n",
    "print(\"Sum of even fibonacci numbers less than 4 million = \" + str(sum_of_even))"
   ]
  },
  {
   "cell_type": "code",
   "execution_count": 93,
   "metadata": {},
   "outputs": [
    {
     "name": "stdout",
     "output_type": "stream",
     "text": [
      "5\n",
      "current solve number = 2639.0\n",
      "7\n",
      "current solve number = 377.0\n",
      "13\n",
      "current solve number = 29.0\n",
      "29\n",
      "current solve number = 1.0\n",
      "Largest Prime Factor for 13195 is 29\n"
     ]
    }
   ],
   "source": [
    "#ID3\n",
    "#init solve\n",
    "number = 13195\n",
    "solve = number\n",
    "largest_prime_factor = 0\n",
    "\n",
    "#for each number in range, if divisible by any number before itself, it is not a prime number, otherwise print:\n",
    "for num in range(2, solve):\n",
    "    for i in range(2, num):\n",
    "        if num % i == 0:\n",
    "            break\n",
    "    else:\n",
    "        if solve % num == 0: #if number is divisible by the prime number, it is a prime factor\n",
    "            largest_prime_factor = num\n",
    "            solve = solve/num #reduce the solve number\n",
    "            print(num)\n",
    "            print('current solve number = ' + str(solve))\n",
    "\n",
    "print('Largest Prime Factor for ' + str(number) + ' is ' + str(largest_prime_factor))"
   ]
  },
  {
   "cell_type": "code",
   "execution_count": 94,
   "metadata": {},
   "outputs": [
    {
     "name": "stdout",
     "output_type": "stream",
     "text": [
      "The highest palindrome is 906609\n"
     ]
    }
   ],
   "source": [
    "#ID4\n",
    "\n",
    "#init variables\n",
    "answer = 0\n",
    "\n",
    "#multiply across all 3 digit numbers \n",
    "for i in range(100, 1000):\n",
    "    for r in range(100, 1000):\n",
    "        new_answer = i*r\n",
    "        string = str(new_answer)\n",
    "        if string == string[::-1]: #check for palindrome\n",
    "            if new_answer > answer: #if new palindrome is bigger, replace answer\n",
    "                answer = new_answer\n",
    "\n",
    "print(\"The highest palindrome is \" + str(answer))"
   ]
  },
  {
   "cell_type": "code",
   "execution_count": 95,
   "metadata": {},
   "outputs": [
    {
     "name": "stdout",
     "output_type": "stream",
     "text": [
      "prime factors of 2 are [2]\n",
      "[[2]]\n",
      "prime factors of 3 are [3]\n",
      "[[2], [3]]\n",
      "prime factors of 4 are [2, 2]\n",
      "[[2], [3], [2, 2]]\n",
      "prime factors of 5 are [5]\n",
      "[[2], [3], [2, 2], [5]]\n",
      "prime factors of 6 are [2, 3]\n",
      "[[2], [3], [2, 2], [5], [2, 3]]\n",
      "prime factors of 7 are [7]\n",
      "[[2], [3], [2, 2], [5], [2, 3], [7]]\n",
      "prime factors of 8 are [2, 4]\n",
      "[[2], [3], [2, 2], [5], [2, 3], [7], [2, 4]]\n",
      "prime factors of 9 are [3, 3]\n",
      "[[2], [3], [2, 2], [5], [2, 3], [7], [2, 4], [3, 3]]\n",
      "prime factors of 10 are [2, 5]\n",
      "[[2], [3], [2, 2], [5], [2, 3], [7], [2, 4], [3, 3], [2, 5]]\n"
     ]
    }
   ],
   "source": [
    "#ID5\n",
    "\n",
    "pf_list = []\n",
    "\n",
    "#to find lowest prime factors for each number\n",
    "def primefac(num):\n",
    "    dummy_num = num\n",
    "    primefact = []\n",
    "    global pf_list\n",
    "    \n",
    "\n",
    "    while dummy_num > 1:\n",
    "        for i in range(2,dummy_num+1):\n",
    "            if dummy_num % i == 0:\n",
    "                primefact.append(i)\n",
    "                dummy_num = int(dummy_num/i)\n",
    "\n",
    "    if dummy_num == 1: \n",
    "        print(\"prime factors of \" + str(num) + \" are \" + str(primefact))\n",
    "        pf_list.append(primefact)\n",
    "\n",
    "for num in range(2,11):\n",
    "    primefac(num)\n",
    "    print(pf_list)"
   ]
  },
  {
   "cell_type": "code",
   "execution_count": 98,
   "metadata": {},
   "outputs": [
    {
     "data": {
      "text/plain": [
       "[[], [3], [], [5], [3], [7], [4], [3, 3], [5]]"
      ]
     },
     "execution_count": 98,
     "metadata": {},
     "output_type": "execute_result"
    }
   ],
   "source": [
    "for num in range()\n",
    "\n",
    "dcm = []\n",
    "pf_list\n",
    "\n",
    "for pf in pf_list:\n",
    "    try:\n",
    "        pf.remove(2)\n",
    "    except:\n",
    "        pass\n",
    "pf_list"
   ]
  },
  {
   "cell_type": "code",
   "execution_count": null,
   "metadata": {
    "collapsed": true
   },
   "outputs": [],
   "source": []
  }
 ],
 "metadata": {
  "kernelspec": {
   "display_name": "Python 3",
   "language": "python",
   "name": "python3"
  },
  "language_info": {
   "codemirror_mode": {
    "name": "ipython",
    "version": 3
   },
   "file_extension": ".py",
   "mimetype": "text/x-python",
   "name": "python",
   "nbconvert_exporter": "python",
   "pygments_lexer": "ipython3",
   "version": "3.6.2"
  }
 },
 "nbformat": 4,
 "nbformat_minor": 2
}
