{
 "cells": [
  {
   "cell_type": "code",
   "execution_count": null,
   "metadata": {
    "collapsed": true
   },
   "outputs": [],
   "source": [
    "#ID1\n",
    "\n",
    "#init sum of numbers\n",
    "max_value = 1000\n",
    "sum_num = []\n",
    "\n",
    "#for numbers below max_value, if divisible by 3 or 5, add to list x\n",
    "for num in range(max_value):\n",
    "    if num % 3 == 0 or num % 5 == 0:\n",
    "        sum_num.append(num)\n",
    "    else:\n",
    "        pass\n",
    "        \n",
    "print(\"Sum of all the multiples of 3 or 5 below 1000 is: \" + str(sum(sum_num)))"
   ]
  },
  {
   "cell_type": "code",
   "execution_count": null,
   "metadata": {
    "collapsed": true
   },
   "outputs": [],
   "source": [
    "#ID2\n",
    "\n",
    "#init fibonacci, next fibonacci number and sum of even fibonacci numbers\n",
    "max_value = 4000000\n",
    "fibonacci = [1,1]\n",
    "next_fibo = 0\n",
    "sum_of_even = 0\n",
    "\n",
    "#for next_fibo less than max value, give next_fibo number by sum of last two numbers, then replace with new numbers.\n",
    "while next_fibo < max_value:\n",
    "    next_fibo = fibonacci[0] + fibonacci[1]\n",
    "    fibonacci[0] = fibonacci[1]\n",
    "    fibonacci[1] = next_fibo\n",
    "    \n",
    "    if next_fibo % 2 == 0: #if number is even, add to sum\n",
    "        sum_of_even += next_fibo\n",
    "#\n",
    "print(\"Sum of even fibonacci numbers less than 4 million = \" + str(sum_of_even))"
   ]
  },
  {
   "cell_type": "code",
   "execution_count": null,
   "metadata": {
    "collapsed": true
   },
   "outputs": [],
   "source": [
    "#ID3\n",
    "#init solve\n",
    "number = 13195\n",
    "solve = number\n",
    "largest_prime_factor = 0\n",
    "\n",
    "#for each number in range, if divisible by any number before itself, it is not a prime number, otherwise print:\n",
    "for num in range(2, solve):\n",
    "    for i in range(2, num):\n",
    "        if num % i == 0:\n",
    "            break\n",
    "    else:\n",
    "        if solve % num == 0: #if number is divisible by the prime number, it is a prime factor\n",
    "            largest_prime_factor = num\n",
    "            solve = solve/num #reduce the solve number\n",
    "            print(num)\n",
    "            print('current solve number = ' + str(solve))\n",
    "\n",
    "print('Largest Prime Factor for ' + str(number) + ' is ' + str(largest_prime_factor))"
   ]
  },
  {
   "cell_type": "code",
   "execution_count": null,
   "metadata": {
    "collapsed": true
   },
   "outputs": [],
   "source": [
    "#ID4\n",
    "\n",
    "#init variables\n",
    "answer = 0\n",
    "\n",
    "#multiply across all 3 digit numbers \n",
    "for i in range(100, 1000):\n",
    "    for r in range(100, 1000):\n",
    "        new_answer = i*r\n",
    "        string = str(new_answer)\n",
    "        if string == string[::-1]: #check for palindrome\n",
    "            if new_answer > answer: #if new palindrome is bigger, replace answer\n",
    "                answer = new_answer\n",
    "\n",
    "print(\"The highest palindrome is \" + str(answer))"
   ]
  },
  {
   "cell_type": "code",
   "execution_count": null,
   "metadata": {
    "collapsed": true
   },
   "outputs": [],
   "source": [
    "#ID5\n",
    "from math import gcd\n",
    "\n",
    "a = 1\n",
    "for num in range(1,21):\n",
    "    denom = gcd(a,num) #find the highest common denominator\n",
    "    \n",
    "    LCM = a*num / denom #find the lowest common multiple\n",
    "    a = int(LCM) #replace with the LCM for next pair of numbers\n",
    "    \n",
    "print(a)"
   ]
  },
  {
   "cell_type": "code",
   "execution_count": null,
   "metadata": {
    "collapsed": true
   },
   "outputs": [],
   "source": [
    "#ID6\n",
    "\n",
    "n = 100\n",
    "\n",
    "summ = 0\n",
    "to_square = 0\n",
    "for num in range(1,n+1):\n",
    "    summ += num**2 #find sum of small squares\n",
    "    to_square += num #find sum before squaring\n",
    "\n",
    "to_square**2 - summ"
   ]
  },
  {
   "cell_type": "code",
   "execution_count": null,
   "metadata": {
    "collapsed": true
   },
   "outputs": [],
   "source": [
    "#ID7\n",
    "\n",
    "n = 10001\n",
    "count = 1\n",
    "prime = 1\n",
    "current = 3\n",
    "\n",
    "#if a number is divisible by any number before itself, it is not a prime number:\n",
    "while count < n:\n",
    "    for num in range(3, current+1):\n",
    "        if current == num:\n",
    "            prime = current\n",
    "            count += 1\n",
    "            current += 2\n",
    "        \n",
    "        elif current % num == 0:\n",
    "            current += 2\n",
    "            \n",
    "        else: \n",
    "            pass\n",
    "\n",
    "prime,count"
   ]
  },
  {
   "cell_type": "code",
   "execution_count": null,
   "metadata": {
    "collapsed": true
   },
   "outputs": [],
   "source": [
    "#ID8\n",
    "number = 7316717653133062491922511967442657474235534919493496983520312774506326239578318016984801869478851843858615607891129494954595017379583319528532088055111254069874715852386305071569329096329522744304355766896648950445244523161731856403098711121722383113622298934233803081353362766142828064444866452387493035890729629049156044077239071381051585930796086670172427121883998797908792274921901699720888093776657273330010533678812202354218097512545405947522435258490771167055601360483958644670632441572215539753697817977846174064955149290862569321978468622482839722413756570560574902614079729686524145351004748216637048440319989000889524345065854122758866688116427171479924442928230863465674813919123162824586178664583591245665294765456828489128831426076900422421902267105562632111110937054421750694165896040807198403850962455444362981230987879927244284909188845801561660979191338754992005240636899125607176060588611646710940507754100225698315520005593572972571636269561882670428252483600823257530420752963450\n",
    "string = list(str(number))\n",
    "length = 13\n",
    "all_multiple = []\n",
    "\n",
    "for n in range(0,len(string)-length):\n",
    "    result = 1\n",
    "    for add in range(1,length+1):\n",
    "        result *= int(string[n+add])\n",
    "    all_multiple.append(result)\n",
    "\n",
    "max(all_multiple)\n"
   ]
  },
  {
   "cell_type": "code",
   "execution_count": null,
   "metadata": {
    "collapsed": true
   },
   "outputs": [],
   "source": [
    "#ID9\n",
    "m = 1\n",
    "add = 1\n",
    "n = m+add\n",
    "\n",
    "a = n**2 - m**2\n",
    "b = 2*m*n\n",
    "c = m**2 + n**2\n",
    "\n",
    "while a+b+c != 1000:\n",
    "    global m\n",
    "    n = m+add\n",
    "\n",
    "    a = n**2 - m**2\n",
    "    b = 2*m*n\n",
    "    c = m**2 + n**2\n",
    "\n",
    "    if a+b+c != 1000:\n",
    "        add += 1\n",
    "\n",
    "        if a+b+c > 1000:\n",
    "            add = 1\n",
    "            m += 1\n",
    "\n",
    "    else:\n",
    "        print(a,b,c)\n",
    "        print(a*b*c)"
   ]
  },
  {
   "cell_type": "code",
   "execution_count": null,
   "metadata": {
    "collapsed": true
   },
   "outputs": [],
   "source": [
    "#ID10\n",
    "from itertools import count\n",
    "\n",
    "limit = 2000000\n",
    "total = 2 + 3\n",
    "\n",
    "#if a number is divisible by any number before itself, it is not a prime number:\n",
    "def isPrime(num):\n",
    "    if num % 2 == 0:\n",
    "        return False\n",
    "    elif num % 3 == 0:\n",
    "        return False\n",
    "    else:\n",
    "        for i in range(2,int(num**0.5)+1):\n",
    "            if num % i == 0:\n",
    "                return False\n",
    "            elif i == int(num**0.5):\n",
    "                return True\n",
    "\n",
    "for num in count(4): \n",
    "    if num > limit:\n",
    "        break\n",
    "    elif isPrime(num):\n",
    "        total += num\n",
    "\n",
    "print(total)"
   ]
  },
  {
   "cell_type": "code",
   "execution_count": null,
   "metadata": {},
   "outputs": [],
   "source": [
    "#ID11\n",
    "\n",
    "number = \"\"\"08 02 22 97 38 15 00 40 00 75 04 05 07 78 52 12 50 77 91 08\n",
    "49 49 99 40 17 81 18 57 60 87 17 40 98 43 69 48 04 56 62 00\n",
    "81 49 31 73 55 79 14 29 93 71 40 67 53 88 30 03 49 13 36 65\n",
    "52 70 95 23 04 60 11 42 69 24 68 56 01 32 56 71 37 02 36 91\n",
    "22 31 16 71 51 67 63 89 41 92 36 54 22 40 40 28 66 33 13 80\n",
    "24 47 32 60 99 03 45 02 44 75 33 53 78 36 84 20 35 17 12 50\n",
    "32 98 81 28 64 23 67 10 26 38 40 67 59 54 70 66 18 38 64 70\n",
    "67 26 20 68 02 62 12 20 95 63 94 39 63 08 40 91 66 49 94 21\n",
    "24 55 58 05 66 73 99 26 97 17 78 78 96 83 14 88 34 89 63 72\n",
    "21 36 23 09 75 00 76 44 20 45 35 14 00 61 33 97 34 31 33 95\n",
    "78 17 53 28 22 75 31 67 15 94 03 80 04 62 16 14 09 53 56 92\n",
    "16 39 05 42 96 35 31 47 55 58 88 24 00 17 54 24 36 29 85 57\n",
    "86 56 00 48 35 71 89 07 05 44 44 37 44 60 21 58 51 54 17 58\n",
    "19 80 81 68 05 94 47 69 28 73 92 13 86 52 17 77 04 89 55 40\n",
    "04 52 08 83 97 35 99 16 07 97 57 32 16 26 26 79 33 27 98 66\n",
    "88 36 68 87 57 62 20 72 03 46 33 67 46 55 12 32 63 93 53 69\n",
    "04 42 16 73 38 25 39 11 24 94 72 18 08 46 29 32 40 62 76 36\n",
    "20 69 36 41 72 30 23 88 34 62 99 69 82 67 59 85 74 04 36 16\n",
    "20 73 35 29 78 31 90 01 74 31 49 71 48 86 81 16 23 57 05 54\n",
    "01 70 54 71 83 51 54 69 16 92 33 48 61 43 52 01 89 19 67 48\"\"\"\n",
    "\n",
    "#Convert the string into integers\n",
    "from itertools import chain\n",
    "\n",
    "number_split = number.split('\\n')\n",
    "number_clean = []\n",
    "\n",
    "for item in number_split:\n",
    "    item2 = item.split(' ')\n",
    "    for num in item2:\n",
    "        number_clean.append(num)\n",
    "\n",
    "integers = []\n",
    "\n",
    "for num in number_clean:\n",
    "    num_int = int(num)\n",
    "    integers.append(num_int)\n",
    "\n",
    "#Obtain products horizontally\n",
    "all_products = []\n",
    "\n",
    "for row in range(20):\n",
    "    for col in range(0+(row*20),17+(row*20)):\n",
    "        fournumbers_hor = list(integers[i] for i in range(col, col+4))\n",
    "        product = 1\n",
    "        for num in fournumbers_hor:\n",
    "            product *= num\n",
    "        all_products.append(product)\n",
    "\n",
    "#Obtain products vertically\n",
    "for col in range(20):\n",
    "    for row in range(17):\n",
    "        fournumbers_ver = list(integers[i] for i in range(row*20+(col), (row+4)*20+(col), 20))\n",
    "        product = 1\n",
    "        for num in fournumbers_ver:\n",
    "            product *= num\n",
    "        all_products.append(product)\n",
    "\n",
    "#Obtain products diagonally \\\n",
    "for col in range(17):\n",
    "    for row in range(17):\n",
    "        fournumbers_diag_right = list(integers[i] for i in range(row*20+(col), (row+4)*20+(col), 21))\n",
    "        product = 1\n",
    "        for num in fournumbers_diag_right:\n",
    "            product *= num\n",
    "        all_products.append(product)\n",
    "\n",
    "#Obtain products diagonally /\n",
    "for col in range(17):\n",
    "    for row in range(17):\n",
    "        fournumbers_diag_left = list(integers[i] for i in range(row*20+(col+3), (row+4)*20+(col-3), 19))\n",
    "        product = 1\n",
    "        for num in fournumbers_diag_left:\n",
    "            product *= num\n",
    "        all_products.append(product)\n",
    "\n",
    "print(max(all_products))"
   ]
  },
  {
   "cell_type": "code",
   "execution_count": 32,
   "metadata": {},
   "outputs": [
    {
     "name": "stdout",
     "output_type": "stream",
     "text": [
      "32640 55\n"
     ]
    }
   ],
   "source": [
    "#ID 12\n",
    "\n",
    "#wrong\n",
    "\n",
    "n = 1\n",
    "limit = 50\n",
    "no_of_divisors = 1\n",
    "diction = {}\n",
    "\n",
    "while no_of_divisors < limit:\n",
    "    n += 1\n",
    "    original_number = sum(range(n+1))\n",
    "    number = original_number\n",
    "    \n",
    "    no_of_divisors = 1\n",
    "    for divisor in reversed(range(2,number+1)):\n",
    "        if number % divisor == 0:\n",
    "            if divisor in diction.keys():\n",
    "                number = number/divisor\n",
    "                no_of_divisors += diction[divisor]\n",
    "            else:\n",
    "                no_of_divisors += 1\n",
    "                 \n",
    "    diction[original_number] = no_of_divisors - 1\n",
    "print(original_number, no_of_divisors)"
   ]
  },
  {
   "cell_type": "code",
   "execution_count": 33,
   "metadata": {
    "scrolled": true
   },
   "outputs": [
    {
     "name": "stdout",
     "output_type": "stream",
     "text": [
      "25200 90\n"
     ]
    }
   ],
   "source": [
    "#correct but slow\n",
    "n = 0\n",
    "limit = 50\n",
    "no_of_divisors = 0\n",
    "\n",
    "while no_of_divisors < limit:\n",
    "    n += 1\n",
    "    number = sum(range(n+1))\n",
    "    no_of_divisors = 0\n",
    "    \n",
    "    for divisor in range(1,number+1):\n",
    "        if number % divisor == 0:\n",
    "            no_of_divisors += 1\n",
    "                    \n",
    "print(number, no_of_divisors)"
   ]
  },
  {
   "cell_type": "code",
   "execution_count": 13,
   "metadata": {},
   "outputs": [
    {
     "name": "stdout",
     "output_type": "stream",
     "text": [
      "28 6\n"
     ]
    }
   ],
   "source": [
    "original_number = 28\n",
    "number = original_number\n",
    "\n",
    "no_of_divisors = 0\n",
    "for divisor in reversed(range(1,number+1)):\n",
    "    if number % divisor == 0:\n",
    "        if divisor in diction.keys():\n",
    "            number = number/divisor\n",
    "            no_of_divisors += diction[divisor]\n",
    "        else:\n",
    "            no_of_divisors += 1\n",
    "print(original_number, no_of_divisors)"
   ]
  },
  {
   "cell_type": "code",
   "execution_count": null,
   "metadata": {
    "collapsed": true
   },
   "outputs": [],
   "source": []
  }
 ],
 "metadata": {
  "kernelspec": {
   "display_name": "Python 3",
   "language": "python",
   "name": "python3"
  },
  "language_info": {
   "codemirror_mode": {
    "name": "ipython",
    "version": 3
   },
   "file_extension": ".py",
   "mimetype": "text/x-python",
   "name": "python",
   "nbconvert_exporter": "python",
   "pygments_lexer": "ipython3",
   "version": "3.6.2"
  }
 },
 "nbformat": 4,
 "nbformat_minor": 2
}
