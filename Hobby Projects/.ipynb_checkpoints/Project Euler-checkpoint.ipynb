{
 "cells": [
  {
   "cell_type": "code",
   "execution_count": 1,
   "metadata": {},
   "outputs": [
    {
     "name": "stdout",
     "output_type": "stream",
     "text": [
      "Sum of all the multiples of 3 or 5 below 1000 is: 233168\n"
     ]
    }
   ],
   "source": [
    "#ID1\n",
    "\n",
    "#init sum of numbers\n",
    "max_value = 1000\n",
    "sum_num = []\n",
    "\n",
    "#for numbers below max_value, if divisible by 3 or 5, add to list x\n",
    "for num in range(max_value):\n",
    "    if num % 3 == 0 or num % 5 == 0:\n",
    "        sum_num.append(num)\n",
    "    else:\n",
    "        pass\n",
    "        \n",
    "print(\"Sum of all the multiples of 3 or 5 below 1000 is: \" + str(sum(sum_num)))"
   ]
  },
  {
   "cell_type": "code",
   "execution_count": 2,
   "metadata": {},
   "outputs": [
    {
     "name": "stdout",
     "output_type": "stream",
     "text": [
      "Sum of even fibonacci numbers less than 4 million = 4613732\n"
     ]
    }
   ],
   "source": [
    "#ID2\n",
    "\n",
    "#init fibonacci, next fibonacci number and sum of even fibonacci numbers\n",
    "max_value = 4000000\n",
    "fibonacci = [1,1]\n",
    "next_fibo = 0\n",
    "sum_of_even = 0\n",
    "\n",
    "#for next_fibo less than max value, give next_fibo number by sum of last two numbers, then replace with new numbers.\n",
    "while next_fibo < max_value:\n",
    "    next_fibo = fibonacci[0] + fibonacci[1]\n",
    "    fibonacci[0] = fibonacci[1]\n",
    "    fibonacci[1] = next_fibo\n",
    "    \n",
    "    if next_fibo % 2 == 0: #if number is even, add to sum\n",
    "        sum_of_even += next_fibo\n",
    "#\n",
    "print(\"Sum of even fibonacci numbers less than 4 million = \" + str(sum_of_even))"
   ]
  },
  {
   "cell_type": "code",
   "execution_count": 3,
   "metadata": {},
   "outputs": [
    {
     "name": "stdout",
     "output_type": "stream",
     "text": [
      "5\n",
      "current solve number = 2639.0\n",
      "7\n",
      "current solve number = 377.0\n",
      "13\n",
      "current solve number = 29.0\n",
      "29\n",
      "current solve number = 1.0\n",
      "Largest Prime Factor for 13195 is 29\n"
     ]
    }
   ],
   "source": [
    "#ID3\n",
    "#init solve\n",
    "number = 13195\n",
    "solve = number\n",
    "largest_prime_factor = 0\n",
    "\n",
    "#for each number in range, if divisible by any number before itself, it is not a prime number, otherwise print:\n",
    "for num in range(2, solve):\n",
    "    for i in range(2, num):\n",
    "        if num % i == 0:\n",
    "            break\n",
    "    else:\n",
    "        if solve % num == 0: #if number is divisible by the prime number, it is a prime factor\n",
    "            largest_prime_factor = num\n",
    "            solve = solve/num #reduce the solve number\n",
    "            print(num)\n",
    "            print('current solve number = ' + str(solve))\n",
    "\n",
    "print('Largest Prime Factor for ' + str(number) + ' is ' + str(largest_prime_factor))"
   ]
  },
  {
   "cell_type": "code",
   "execution_count": 4,
   "metadata": {},
   "outputs": [
    {
     "name": "stdout",
     "output_type": "stream",
     "text": [
      "The highest palindrome is 906609\n"
     ]
    }
   ],
   "source": [
    "#ID4\n",
    "\n",
    "#init variables\n",
    "answer = 0\n",
    "\n",
    "#multiply across all 3 digit numbers \n",
    "for i in range(100, 1000):\n",
    "    for r in range(100, 1000):\n",
    "        new_answer = i*r\n",
    "        string = str(new_answer)\n",
    "        if string == string[::-1]: #check for palindrome\n",
    "            if new_answer > answer: #if new palindrome is bigger, replace answer\n",
    "                answer = new_answer\n",
    "\n",
    "print(\"The highest palindrome is \" + str(answer))"
   ]
  },
  {
   "cell_type": "code",
   "execution_count": 7,
   "metadata": {},
   "outputs": [
    {
     "name": "stdout",
     "output_type": "stream",
     "text": [
      "232792560\n"
     ]
    }
   ],
   "source": [
    "#ID5\n",
    "from math import gcd\n",
    "\n",
    "a = 1\n",
    "for num in range(1,21):\n",
    "    denom = gcd(a,num) #find the highest common denominator\n",
    "    \n",
    "    LCM = a*num / denom #find the lowest common multiple\n",
    "    a = int(LCM) #replace with the LCM for next pair of numbers\n",
    "    \n",
    "print(a)"
   ]
  },
  {
   "cell_type": "code",
   "execution_count": 10,
   "metadata": {},
   "outputs": [
    {
     "data": {
      "text/plain": [
       "25164150"
      ]
     },
     "execution_count": 10,
     "metadata": {},
     "output_type": "execute_result"
    }
   ],
   "source": [
    "#ID6\n",
    "\n",
    "n = 100\n",
    "\n",
    "summ = 0\n",
    "to_square = 0\n",
    "for num in range(1,n+1):\n",
    "    summ += num**2 #find sum of small squares\n",
    "    to_square += num #find sum before squaring\n",
    "\n",
    "to_square**2 - summ"
   ]
  },
  {
   "cell_type": "code",
   "execution_count": 33,
   "metadata": {},
   "outputs": [
    {
     "name": "stdout",
     "output_type": "stream",
     "text": [
      "1000\n",
      "2000\n",
      "3000\n",
      "4000\n",
      "5000\n",
      "6000\n",
      "7000\n",
      "8000\n",
      "9000\n",
      "10000\n"
     ]
    },
    {
     "data": {
      "text/plain": [
       "(104743, 10001)"
      ]
     },
     "execution_count": 33,
     "metadata": {},
     "output_type": "execute_result"
    }
   ],
   "source": [
    "#ID7\n",
    "\n",
    "n = 10001\n",
    "count = 0\n",
    "prime = 1\n",
    "current = 2\n",
    "\n",
    "#if a number is divisible by any number before itself, it is not a prime number:\n",
    "while count < n:\n",
    "    for num in range(2, current+1):\n",
    "        if current == num:\n",
    "            prime = current\n",
    "            count += 1\n",
    "            current += 1\n",
    "            if count % 1000 == 0:\n",
    "                print(count)\n",
    "        \n",
    "        elif current % num == 0:\n",
    "            current +=1\n",
    "            \n",
    "        else: \n",
    "            pass\n",
    "\n",
    "prime,count"
   ]
  },
  {
   "cell_type": "code",
   "execution_count": null,
   "metadata": {
    "collapsed": true
   },
   "outputs": [],
   "source": []
  }
 ],
 "metadata": {
  "kernelspec": {
   "display_name": "Python 3",
   "language": "python",
   "name": "python3"
  },
  "language_info": {
   "codemirror_mode": {
    "name": "ipython",
    "version": 3
   },
   "file_extension": ".py",
   "mimetype": "text/x-python",
   "name": "python",
   "nbconvert_exporter": "python",
   "pygments_lexer": "ipython3",
   "version": "3.6.2"
  }
 },
 "nbformat": 4,
 "nbformat_minor": 2
}
