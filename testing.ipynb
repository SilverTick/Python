{
 "cells": [
  {
   "cell_type": "code",
   "execution_count": 30,
   "metadata": {},
   "outputs": [
    {
     "data": {
      "text/html": [
       "<div>\n",
       "<style>\n",
       "    .dataframe thead tr:only-child th {\n",
       "        text-align: right;\n",
       "    }\n",
       "\n",
       "    .dataframe thead th {\n",
       "        text-align: left;\n",
       "    }\n",
       "\n",
       "    .dataframe tbody tr th {\n",
       "        vertical-align: top;\n",
       "    }\n",
       "</style>\n",
       "<table border=\"1\" class=\"dataframe\">\n",
       "  <thead>\n",
       "    <tr style=\"text-align: right;\">\n",
       "      <th></th>\n",
       "      <th>0</th>\n",
       "      <th>1</th>\n",
       "      <th>2</th>\n",
       "      <th>3</th>\n",
       "    </tr>\n",
       "  </thead>\n",
       "  <tbody>\n",
       "    <tr>\n",
       "      <th>Carpark Address</th>\n",
       "      <td>Mon-Fri after 5/6pm</td>\n",
       "      <td>Mon-Fri before 5/6pm</td>\n",
       "      <td>Sat</td>\n",
       "      <td>Sun/Public Holiday</td>\n",
       "    </tr>\n",
       "    <tr>\n",
       "      <th>*Scape, 2 Orchard Link, S(237978)</th>\n",
       "      <td>$5.15 for 1st 3hr, $2.05 for next subsequent h...</td>\n",
       "      <td>$2.05/hr from 7am to 4.59pm</td>\n",
       "      <td>$2.05/hr from 7am to 7am the following day</td>\n",
       "      <td>$2.05/hr from 7am to 4.59pm, $5.15 for 1st 3hr...</td>\n",
       "    </tr>\n",
       "  </tbody>\n",
       "</table>\n",
       "</div>"
      ],
      "text/plain": [
       "                                                                                   0  \\\n",
       "Carpark Address                                                  Mon-Fri after 5/6pm   \n",
       "*Scape, 2 Orchard Link, S(237978)  $5.15 for 1st 3hr, $2.05 for next subsequent h...   \n",
       "\n",
       "                                                             1  \\\n",
       "Carpark Address                           Mon-Fri before 5/6pm   \n",
       "*Scape, 2 Orchard Link, S(237978)  $2.05/hr from 7am to 4.59pm   \n",
       "\n",
       "                                                                            2  \\\n",
       "Carpark Address                                                           Sat   \n",
       "*Scape, 2 Orchard Link, S(237978)  $2.05/hr from 7am to 7am the following day   \n",
       "\n",
       "                                                                                   3  \n",
       "Carpark Address                                                   Sun/Public Holiday  \n",
       "*Scape, 2 Orchard Link, S(237978)  $2.05/hr from 7am to 4.59pm, $5.15 for 1st 3hr...  "
      ]
     },
     "execution_count": 30,
     "metadata": {},
     "output_type": "execute_result"
    }
   ],
   "source": [
    "import pandas as pd\n",
    "df = pd.read_csv('parking3.csv')\n",
    "df2 = df.transpose()\n",
    "df2"
   ]
  },
  {
   "cell_type": "code",
   "execution_count": 26,
   "metadata": {},
   "outputs": [],
   "source": [
    "df2.to_json('testing.json')"
   ]
  },
  {
   "cell_type": "code",
   "execution_count": 27,
   "metadata": {},
   "outputs": [
    {
     "data": {
      "text/html": [
       "<div>\n",
       "<style>\n",
       "    .dataframe thead tr:only-child th {\n",
       "        text-align: right;\n",
       "    }\n",
       "\n",
       "    .dataframe thead th {\n",
       "        text-align: left;\n",
       "    }\n",
       "\n",
       "    .dataframe tbody tr th {\n",
       "        vertical-align: top;\n",
       "    }\n",
       "</style>\n",
       "<table border=\"1\" class=\"dataframe\">\n",
       "  <thead>\n",
       "    <tr style=\"text-align: right;\">\n",
       "      <th></th>\n",
       "      <th>0</th>\n",
       "      <th>1</th>\n",
       "      <th>2</th>\n",
       "      <th>3</th>\n",
       "    </tr>\n",
       "  </thead>\n",
       "  <tbody>\n",
       "    <tr>\n",
       "      <th>*Scape, 2 Orchard Link, S(237978)</th>\n",
       "      <td>$5.15 for 1st 3hr, $2.05 for next subsequent h...</td>\n",
       "      <td>$2.05/hr from 7am to 4.59pm</td>\n",
       "      <td>$2.05/hr from 7am to 7am the following day</td>\n",
       "      <td>$2.05/hr from 7am to 4.59pm, $5.15 for 1st 3hr...</td>\n",
       "    </tr>\n",
       "    <tr>\n",
       "      <th>Carpark Address</th>\n",
       "      <td>Mon-Fri after 5/6pm</td>\n",
       "      <td>Mon-Fri before 5/6pm</td>\n",
       "      <td>Sat</td>\n",
       "      <td>Sun/Public Holiday</td>\n",
       "    </tr>\n",
       "  </tbody>\n",
       "</table>\n",
       "</div>"
      ],
      "text/plain": [
       "                                                                                   0  \\\n",
       "*Scape, 2 Orchard Link, S(237978)  $5.15 for 1st 3hr, $2.05 for next subsequent h...   \n",
       "Carpark Address                                                  Mon-Fri after 5/6pm   \n",
       "\n",
       "                                                             1  \\\n",
       "*Scape, 2 Orchard Link, S(237978)  $2.05/hr from 7am to 4.59pm   \n",
       "Carpark Address                           Mon-Fri before 5/6pm   \n",
       "\n",
       "                                                                            2  \\\n",
       "*Scape, 2 Orchard Link, S(237978)  $2.05/hr from 7am to 7am the following day   \n",
       "Carpark Address                                                           Sat   \n",
       "\n",
       "                                                                                   3  \n",
       "*Scape, 2 Orchard Link, S(237978)  $2.05/hr from 7am to 4.59pm, $5.15 for 1st 3hr...  \n",
       "Carpark Address                                                   Sun/Public Holiday  "
      ]
     },
     "execution_count": 27,
     "metadata": {},
     "output_type": "execute_result"
    }
   ],
   "source": [
    "df3 = pd.read_json('testing.json')\n",
    "df3"
   ]
  },
  {
   "cell_type": "code",
   "execution_count": null,
   "metadata": {
    "collapsed": true
   },
   "outputs": [],
   "source": []
  }
 ],
 "metadata": {
  "kernelspec": {
   "display_name": "Python 3",
   "language": "python",
   "name": "python3"
  },
  "language_info": {
   "codemirror_mode": {
    "name": "ipython",
    "version": 3
   },
   "file_extension": ".py",
   "mimetype": "text/x-python",
   "name": "python",
   "nbconvert_exporter": "python",
   "pygments_lexer": "ipython3",
   "version": "3.6.2"
  }
 },
 "nbformat": 4,
 "nbformat_minor": 2
}
